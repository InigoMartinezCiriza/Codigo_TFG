{
 "cells": [
  {
   "cell_type": "markdown",
   "id": "0d5f0c0f-0dd1-4163-8254-15615b0cf03e",
   "metadata": {},
   "source": [
    "## Aplicando Random Forest a datos de gamma y protones"
   ]
  },
  {
   "cell_type": "markdown",
   "id": "42141153-18c6-493f-b1e3-a2adbb493a8a",
   "metadata": {},
   "source": [
    "### 1. Juntar y leer los ficheros H5 con las imágenes"
   ]
  },
  {
   "cell_type": "markdown",
   "id": "8f0d57dd-07b8-472c-bd33-62ac4aa1062d",
   "metadata": {},
   "source": [
    "Importamos los módulos:"
   ]
  },
  {
   "cell_type": "code",
   "execution_count": 1,
   "id": "4a1cd9d0-46a5-4ca2-99f5-c7eb698e3da0",
   "metadata": {},
   "outputs": [
    {
     "name": "stderr",
     "output_type": "stream",
     "text": [
      "/tmp/ipykernel_15377/2141602193.py:2: DeprecationWarning: \n",
      "Pyarrow will become a required dependency of pandas in the next major release of pandas (pandas 3.0),\n",
      "(to allow more performant data types, such as the Arrow string type, and better interoperability with other libraries)\n",
      "but was not found to be installed on your system.\n",
      "If this would cause problems for you,\n",
      "please provide us feedback at https://github.com/pandas-dev/pandas/issues/54466\n",
      "        \n",
      "  import pandas as pd\n"
     ]
    }
   ],
   "source": [
    "import numpy as np\n",
    "import pandas as pd\n",
    "import matplotlib.pyplot as plt\n",
    "\n",
    "from ctapipe.io import TableLoader\n",
    "\n",
    "from sklearn.ensemble import RandomForestClassifier\n",
    "from sklearn.metrics import accuracy_score, confusion_matrix, precision_score, recall_score, ConfusionMatrixDisplay\n",
    "from sklearn.model_selection import RandomizedSearchCV, train_test_split\n",
    "from scipy.stats import randint"
   ]
  },
  {
   "cell_type": "markdown",
   "id": "c2198370-1c3b-4cfa-9612-262c03bbcf8e",
   "metadata": {},
   "source": [
    "Cargamos las imágenes con TableLoader (permite leer los archivos H5):"
   ]
  },
  {
   "cell_type": "code",
   "execution_count": 2,
   "id": "558294da-fcf7-42e4-a7d3-69c68d27d9d6",
   "metadata": {},
   "outputs": [],
   "source": [
    "with TableLoader(\"../datos/proton_with_images_00.dl2.h5\", load_dl1_images=True, load_dl2=True,load_simulated=True) as loader_p:\n",
    "    protons_tel_events = loader_p.read_telescope_events(\"LST_LST_LSTCam\", start=0, stop=10000)\n",
    "    \n",
    "with TableLoader(\"../datos/gamma-diffuse_with_images_00.dl2.h5\", load_dl1_images=True,load_dl2=True, load_simulated=True) as loader_g:\n",
    "    gamma_tel_events = loader_g.read_telescope_events(\"LST_LST_LSTCam\", start=0, stop=10000)"
   ]
  },
  {
   "cell_type": "markdown",
   "id": "6118f790-3cd3-44ff-99e8-64c88f628201",
   "metadata": {},
   "source": [
    "Determinamos los parámetros de las imágenes con los que vamos a trabajar y se lo determinamos a nuestras imágenes:"
   ]
  },
  {
   "cell_type": "code",
   "execution_count": 3,
   "id": "2e0d11ab-83dc-493f-9f0d-d4235977606b",
   "metadata": {},
   "outputs": [
    {
     "name": "stdout",
     "output_type": "stream",
     "text": [
      "<class 'astropy.table.table.Table'>\n"
     ]
    }
   ],
   "source": [
    "features = [\n",
    " #'obs_id',\n",
    " #'event_id',                          \n",
    " #'tel_id',\n",
    " 'hillas_intensity',\n",
    " #'hillas_skewness',\n",
    " #'hillas_kurtosis',\n",
    " #'hillas_r',\n",
    " #'hillas_phi',\n",
    " 'hillas_length',\n",
    " 'hillas_width',\n",
    " #'hillas_psi',\n",
    " #'timing_intercept',\n",
    " #'timing_deviation',\n",
    " 'timing_slope',\n",
    " #'leakage_intensity_width_2',\n",
    " #'true_energy'\n",
    "]\n",
    "\n",
    "protons_tel_events_f = protons_tel_events[features] \n",
    "gamma_tel_events_f=gamma_tel_events[features]\n",
    "\n",
    "# Mostramos el tipo de imágenes con las que el TableLoader nos ha devuelto los archivos h5\n",
    "print(type(protons_tel_events_f)) "
   ]
  },
  {
   "cell_type": "markdown",
   "id": "41046e05-9a34-423b-927a-cbaf0b85f48e",
   "metadata": {},
   "source": [
    "Convertimos a dataframe las imágenes para manjear datos con mayor facilidad: "
   ]
  },
  {
   "cell_type": "code",
   "execution_count": 4,
   "id": "6dea3f8a-39b7-4315-902b-1c93c4e8e05a",
   "metadata": {},
   "outputs": [
    {
     "name": "stdout",
     "output_type": "stream",
     "text": [
      "   hillas_intensity  hillas_length  hillas_width  timing_slope\n",
      "1        179.189536       0.075043      0.038707     -0.795857\n",
      "2        175.102116       0.099796      0.037724     -0.183879\n",
      "3        219.014162       0.067318      0.055117     -2.098332\n",
      "4         76.100910       0.076310      0.053727      5.010075\n",
      "5        114.284697       0.134224      0.067950      6.764235\n",
      "(3409, 4)\n"
     ]
    }
   ],
   "source": [
    "df_protons = protons_tel_events_f.to_pandas()\n",
    "df_protons = df_protons.dropna()                                                              # Eliminamos filas con NaN values\n",
    "df_protons = df_protons[(df_protons['hillas_intensity']<600)&(df_protons['hillas_length']<6)] # Eliminamos los eventos de muy alta y muy cortos\n",
    "print(df_protons[0:5])\n",
    "print(df_protons.shape)"
   ]
  },
  {
   "cell_type": "code",
   "execution_count": 5,
   "id": "7d972313-4b8d-4907-8f74-dd66e62706d2",
   "metadata": {},
   "outputs": [
    {
     "name": "stdout",
     "output_type": "stream",
     "text": [
      "   hillas_intensity  hillas_length  hillas_width  timing_slope\n",
      "0         97.337978       0.108321      0.051531     -5.928553\n",
      "2         54.234541       0.079777      0.050685    -10.780453\n",
      "3        110.271869       0.196856      0.058297    -29.961223\n",
      "4        216.849001       0.364693      0.062745    -29.131488\n",
      "5         93.050237       0.097492      0.056339    -23.022860\n",
      "(4119, 4)\n"
     ]
    }
   ],
   "source": [
    "df_gamma = gamma_tel_events_f.to_pandas()\n",
    "df_gamma = df_gamma.dropna()                                                                  # Eliminamos filas con NaN values\n",
    "df_gamma = df_gamma[df_gamma['hillas_intensity']<600]                                         # Eliminamos los eventos de muy alta intensidad\n",
    "print(df_gamma[0:5])\n",
    "print(df_gamma.shape)"
   ]
  },
  {
   "cell_type": "markdown",
   "id": "f17f8a7b-5922-47dc-824d-b52721819908",
   "metadata": {},
   "source": [
    "Juntamos los dos dataframes en uno solo porque RandomForest necesita datos de los dos para funcionar. Además, ahora debemos añadir la etiqueta de los datos, si es protón o si es gamma para que el RandomForest pueda comprobar sus predicciones. Dado que del dataframe conjunto 3409 filas son de protones y 4119 filas son de gammas, añadiremos una nueva columna con las etiquetas:"
   ]
  },
  {
   "cell_type": "code",
   "execution_count": 6,
   "id": "0684da99-88c3-4730-b98e-68a07a7ce1d5",
   "metadata": {},
   "outputs": [
    {
     "name": "stdout",
     "output_type": "stream",
     "text": [
      "(7528, 4)\n",
      "(7528, 5)\n"
     ]
    }
   ],
   "source": [
    "df_protongamma = pd.concat([df_protons, df_gamma], axis=0)                                             # Une protones y gammas por filas\n",
    "print(df_protongamma.shape)\n",
    "\n",
    "label = []                                                                                             # Añade las etiquetas a los datos\n",
    "for i in range(3409):\n",
    "    label.append(\"proton\")\n",
    "for j in range(4119):\n",
    "    label.append(\"gamma\")\n",
    "\n",
    "df_protongamma.insert(4,\"label\", label, True)\n",
    "print(df_protongamma.shape)"
   ]
  },
  {
   "cell_type": "code",
   "execution_count": 7,
   "id": "a24641b2-bead-48b5-9675-f11e514bc78b",
   "metadata": {},
   "outputs": [
    {
     "name": "stdout",
     "output_type": "stream",
     "text": [
      "      hillas_intensity  hillas_length  hillas_width  timing_slope   label\n",
      "6284         88.391457       0.083337      0.038175      0.868545  proton\n",
      "6287         97.145200       0.096007      0.045447     -2.104957  proton\n",
      "6289         64.570495       0.082258      0.045599     -2.867887  proton\n",
      "6290        117.966622       0.130640      0.050531      1.531302  proton\n",
      "0            97.337978       0.108321      0.051531     -5.928553   gamma\n",
      "2            54.234541       0.079777      0.050685    -10.780453   gamma\n",
      "3           110.271869       0.196856      0.058297    -29.961223   gamma\n",
      "4           216.849001       0.364693      0.062745    -29.131488   gamma\n",
      "5            93.050237       0.097492      0.056339    -23.022860   gamma\n",
      "6           271.092692       0.286222      0.077065    -23.332562   gamma\n"
     ]
    }
   ],
   "source": [
    "print(df_protongamma[3405:3415])"
   ]
  },
  {
   "cell_type": "markdown",
   "id": "21cfe9e9-20d8-4308-b6c1-5f67cdf1950b",
   "metadata": {},
   "source": [
    "### 2. Entrenar el modelo"
   ]
  },
  {
   "cell_type": "markdown",
   "id": "018e4e25-7e82-453d-ae1b-bca21aaadd43",
   "metadata": {},
   "source": [
    "Ahora ya tenemos los datos preparados para realizar un primer RandomForest. Tenemos tanto las etiquetas de los datos como los parámetros que determinarán si es un protón o un gamma.\n",
    "\n",
    "El siguiente paso es dividir los datos en datos para entrenar y en datos para comprobar que el RandomForest funciona:"
   ]
  },
  {
   "cell_type": "code",
   "execution_count": 11,
   "id": "cd39da28-3694-433c-9392-16f7e902e005",
   "metadata": {},
   "outputs": [
    {
     "name": "stdout",
     "output_type": "stream",
     "text": [
      "      hillas_intensity  hillas_length  hillas_width  timing_slope\n",
      "4060         83.780974       0.072208      0.065532     -5.235353\n",
      "386          94.366555       0.071739      0.060211      2.668664\n",
      "1673         89.321432       0.071045      0.052556      2.579356\n",
      "6058        154.519370       0.049597      0.031011     -0.976352\n",
      "4835         75.834680       0.067897      0.044999      0.413494\n",
      "\n",
      "4060     gamma\n",
      "386      gamma\n",
      "1673     gamma\n",
      "6058    proton\n",
      "4835     gamma\n",
      "Name: label, dtype: object\n",
      "\n",
      "      hillas_intensity  hillas_length  hillas_width  timing_slope\n",
      "3701        505.137928       0.310426      0.085122      9.429493\n",
      "6696        156.827621       0.070823      0.047730     -1.855634\n",
      "1837         58.612759       0.072212      0.053404      3.906034\n",
      "1780        368.966434       0.162616      0.052990      0.914191\n",
      "5449         69.045493       0.084651      0.062408     10.551041\n",
      "\n",
      "3701     gamma\n",
      "6696     gamma\n",
      "1837    proton\n",
      "1780     gamma\n",
      "5449     gamma\n",
      "Name: label, dtype: object\n"
     ]
    }
   ],
   "source": [
    "X = df_protongamma.drop(\"label\", axis=1)                                              # Determina los parámetros \n",
    "y = df_protongamma[\"label\"]                                                           # Determina las etiquetas \n",
    "\n",
    "# Dividimos los datos en dos, los que servirán para entrenar al RandomForest y los que servirán para comprobar que las predicciones son correctas\n",
    "X_train, X_test, y_train, y_test = train_test_split(X, y, test_size=0.35)\n",
    "\n",
    "print(X_train[0:5])\n",
    "print()\n",
    "print(y_train[0:5])\n",
    "print()\n",
    "print(X_test[0:5])\n",
    "print()\n",
    "print(y_test[0:5])"
   ]
  },
  {
   "cell_type": "markdown",
   "id": "1c30b0db-2fb4-488d-add8-6ec54e3c4e39",
   "metadata": {},
   "source": [
    "Ahora solo queda entrenar el modelo y comprobar que es correcto:"
   ]
  },
  {
   "cell_type": "code",
   "execution_count": 12,
   "id": "282595e1-85a1-49cd-a27c-da2dd394d9dc",
   "metadata": {},
   "outputs": [
    {
     "data": {
      "text/html": [
       "<style>#sk-container-id-1 {color: black;background-color: white;}#sk-container-id-1 pre{padding: 0;}#sk-container-id-1 div.sk-toggleable {background-color: white;}#sk-container-id-1 label.sk-toggleable__label {cursor: pointer;display: block;width: 100%;margin-bottom: 0;padding: 0.3em;box-sizing: border-box;text-align: center;}#sk-container-id-1 label.sk-toggleable__label-arrow:before {content: \"▸\";float: left;margin-right: 0.25em;color: #696969;}#sk-container-id-1 label.sk-toggleable__label-arrow:hover:before {color: black;}#sk-container-id-1 div.sk-estimator:hover label.sk-toggleable__label-arrow:before {color: black;}#sk-container-id-1 div.sk-toggleable__content {max-height: 0;max-width: 0;overflow: hidden;text-align: left;background-color: #f0f8ff;}#sk-container-id-1 div.sk-toggleable__content pre {margin: 0.2em;color: black;border-radius: 0.25em;background-color: #f0f8ff;}#sk-container-id-1 input.sk-toggleable__control:checked~div.sk-toggleable__content {max-height: 200px;max-width: 100%;overflow: auto;}#sk-container-id-1 input.sk-toggleable__control:checked~label.sk-toggleable__label-arrow:before {content: \"▾\";}#sk-container-id-1 div.sk-estimator input.sk-toggleable__control:checked~label.sk-toggleable__label {background-color: #d4ebff;}#sk-container-id-1 div.sk-label input.sk-toggleable__control:checked~label.sk-toggleable__label {background-color: #d4ebff;}#sk-container-id-1 input.sk-hidden--visually {border: 0;clip: rect(1px 1px 1px 1px);clip: rect(1px, 1px, 1px, 1px);height: 1px;margin: -1px;overflow: hidden;padding: 0;position: absolute;width: 1px;}#sk-container-id-1 div.sk-estimator {font-family: monospace;background-color: #f0f8ff;border: 1px dotted black;border-radius: 0.25em;box-sizing: border-box;margin-bottom: 0.5em;}#sk-container-id-1 div.sk-estimator:hover {background-color: #d4ebff;}#sk-container-id-1 div.sk-parallel-item::after {content: \"\";width: 100%;border-bottom: 1px solid gray;flex-grow: 1;}#sk-container-id-1 div.sk-label:hover label.sk-toggleable__label {background-color: #d4ebff;}#sk-container-id-1 div.sk-serial::before {content: \"\";position: absolute;border-left: 1px solid gray;box-sizing: border-box;top: 0;bottom: 0;left: 50%;z-index: 0;}#sk-container-id-1 div.sk-serial {display: flex;flex-direction: column;align-items: center;background-color: white;padding-right: 0.2em;padding-left: 0.2em;position: relative;}#sk-container-id-1 div.sk-item {position: relative;z-index: 1;}#sk-container-id-1 div.sk-parallel {display: flex;align-items: stretch;justify-content: center;background-color: white;position: relative;}#sk-container-id-1 div.sk-item::before, #sk-container-id-1 div.sk-parallel-item::before {content: \"\";position: absolute;border-left: 1px solid gray;box-sizing: border-box;top: 0;bottom: 0;left: 50%;z-index: -1;}#sk-container-id-1 div.sk-parallel-item {display: flex;flex-direction: column;z-index: 1;position: relative;background-color: white;}#sk-container-id-1 div.sk-parallel-item:first-child::after {align-self: flex-end;width: 50%;}#sk-container-id-1 div.sk-parallel-item:last-child::after {align-self: flex-start;width: 50%;}#sk-container-id-1 div.sk-parallel-item:only-child::after {width: 0;}#sk-container-id-1 div.sk-dashed-wrapped {border: 1px dashed gray;margin: 0 0.4em 0.5em 0.4em;box-sizing: border-box;padding-bottom: 0.4em;background-color: white;}#sk-container-id-1 div.sk-label label {font-family: monospace;font-weight: bold;display: inline-block;line-height: 1.2em;}#sk-container-id-1 div.sk-label-container {text-align: center;}#sk-container-id-1 div.sk-container {/* jupyter's `normalize.less` sets `[hidden] { display: none; }` but bootstrap.min.css set `[hidden] { display: none !important; }` so we also need the `!important` here to be able to override the default hidden behavior on the sphinx rendered scikit-learn.org. See: https://github.com/scikit-learn/scikit-learn/issues/21755 */display: inline-block !important;position: relative;}#sk-container-id-1 div.sk-text-repr-fallback {display: none;}</style><div id=\"sk-container-id-1\" class=\"sk-top-container\"><div class=\"sk-text-repr-fallback\"><pre>RandomForestClassifier()</pre><b>In a Jupyter environment, please rerun this cell to show the HTML representation or trust the notebook. <br />On GitHub, the HTML representation is unable to render, please try loading this page with nbviewer.org.</b></div><div class=\"sk-container\" hidden><div class=\"sk-item\"><div class=\"sk-estimator sk-toggleable\"><input class=\"sk-toggleable__control sk-hidden--visually\" id=\"sk-estimator-id-1\" type=\"checkbox\" checked><label for=\"sk-estimator-id-1\" class=\"sk-toggleable__label sk-toggleable__label-arrow\">RandomForestClassifier</label><div class=\"sk-toggleable__content\"><pre>RandomForestClassifier()</pre></div></div></div></div></div>"
      ],
      "text/plain": [
       "RandomForestClassifier()"
      ]
     },
     "execution_count": 12,
     "metadata": {},
     "output_type": "execute_result"
    }
   ],
   "source": [
    "rf_model = RandomForestClassifier()\n",
    "rf_model.fit(X_train, y_train)"
   ]
  },
  {
   "cell_type": "markdown",
   "id": "6d9b896e-7720-4a72-aea8-a8043a39450a",
   "metadata": {},
   "source": [
    "Comprobamos los resultados obtenidos por el modelo usando los conjuntos de datos que habíamos separado para comprobar:"
   ]
  },
  {
   "cell_type": "code",
   "execution_count": 13,
   "id": "2c24276f-b310-4127-9646-059556959e64",
   "metadata": {},
   "outputs": [
    {
     "name": "stdout",
     "output_type": "stream",
     "text": [
      "Precisión: 62.69449715370019 %\n"
     ]
    }
   ],
   "source": [
    "y_pred = rf_model.predict(X_test)\n",
    "accuracy = accuracy_score(y_test, y_pred)\n",
    "print(\"Precisión:\", accuracy*100, \"%\" )"
   ]
  },
  {
   "cell_type": "markdown",
   "id": "e0e35ee1-9969-4999-b58d-2da769bf3f8b",
   "metadata": {},
   "source": [
    "Visualicemos algunos de estos árboles:"
   ]
  },
  {
   "cell_type": "code",
   "execution_count": 44,
   "id": "2838f681-5062-4600-93be-8231a3fb48f2",
   "metadata": {},
   "outputs": [],
   "source": [
    "# Crear figura y ejes\n",
    "fig, axes = plt.subplots(nrows=1, ncols=1, figsize=(10, 8), dpi=200)\n",
    "\n",
    "# Dibujar el árbol\n",
    "tree.plot_tree(rf_model.estimators_[2],\n",
    "               feature_names=X_train.columns, \n",
    "               max_depth=2,\n",
    "               filled=True,\n",
    "               impurity=True, \n",
    "               proportion=True,\n",
    "               ax=axes,\n",
    "               fontsize=10,  # Tamaño de fuente\n",
    "               rounded=True,  # Bordes redondeados\n",
    "               )\n",
    "\n",
    "# Guardar la figura\n",
    "fig.savefig('rf_individualtree.png', bbox_inches='tight')"
   ]
  },
  {
   "cell_type": "code",
   "execution_count": 31,
   "id": "0f1b1cf7-0424-43b4-bddb-8f931c1123da",
   "metadata": {},
   "outputs": [],
   "source": [
    "from sklearn.tree import export_graphviz\n",
    "from sklearn import tree\n",
    "\n",
    "fig, axes = plt.subplots(nrows = 1,ncols = 1,figsize = (4,4), dpi=800)\n",
    "tree.plot_tree(rf_model.estimators_[0],\n",
    "               feature_names=X_train.columns, \n",
    "               max_depth=3,\n",
    "               filled=True,\n",
    "               impurity=True, \n",
    "               proportion=True,\n",
    "               ax=axes,\n",
    "               fontsize=8,  # Tamaño de fuente\n",
    "               node_size=500,  # Tamaño de los nodos\n",
    "               rounded=True,  # Bordes redondeados\n",
    "               )\n",
    "fig.savefig('rf_individualtree.png')\n",
    "\n",
    "fig, axes = plt.subplots(nrows = 1,ncols = 1,figsize = (4,4), dpi=800)\n",
    "tree.plot_tree(rf_model.estimators_[0],\n",
    "               feature_names = X_train.columns, \n",
    "               max_depth=3,\n",
    "               filled = True,\n",
    "               impurity=True, \n",
    "               proportion=True);\n",
    "fig.savefig('rf_individualtree.png')\n",
    "\n",
    "fig, axes = plt.subplots(nrows = 1,ncols = 5,figsize = (10,2), dpi=900)\n",
    "for index in range(0, 5):\n",
    "    tree.plot_tree(rf_model.estimators_[index],\n",
    "                   feature_names = X_train.columns,\n",
    "                   max_depth=2,\n",
    "                   filled = True,\n",
    "                    impurity=True, \n",
    "                   proportion=True,\n",
    "                   ax = axes[index]);\n",
    "\n",
    "    axes[index].set_title('Estimator: ' + str(index), fontsize = 11)\n",
    "fig.savefig('rf_5trees.png')"
   ]
  },
  {
   "cell_type": "markdown",
   "id": "7c255825-e3c0-4164-bede-f66b5d3f08e8",
   "metadata": {},
   "source": [
    "Este primer RandomForest es una primera aproximación, con una precisión de alrededor del 62,5 %. Sin embargo, podemos mejorar estos resultados. "
   ]
  },
  {
   "cell_type": "markdown",
   "id": "091ea44f-c5c5-4a0e-992d-7db61b3641b5",
   "metadata": {},
   "source": [
    "### 3. Mejorar el modelo"
   ]
  },
  {
   "cell_type": "markdown",
   "id": "53aa4e9b-fcd5-4188-bf47-7c70bcc5f94b",
   "metadata": {},
   "source": [
    "Para mejorar el modelo deberemos empezar por optimizar los hiperparámetros del RandomForest y así, mediante la determinación óptima del número de árboles de decisión, del número de decisiones por árbol y otros hiperparámetros se podrá mejorar el modelo."
   ]
  },
  {
   "cell_type": "code",
   "execution_count": 12,
   "id": "f6a9eebe-9cee-4b0d-83f5-e42090f22929",
   "metadata": {},
   "outputs": [
    {
     "name": "stdout",
     "output_type": "stream",
     "text": [
      "Mejores parámetros: {'max_depth': 7, 'n_estimators': 424}\n"
     ]
    }
   ],
   "source": [
    "# Definimos los parámetros que vamos a optimizar y entre que valores creemos que se encontrará el valor óptimo\n",
    "param_dist = {'n_estimators': randint(350,450), 'max_depth': randint(4,10)}\n",
    "\n",
    "# Creamos un nuevo RandomForest\n",
    "rf = RandomForestClassifier()\n",
    "\n",
    "# Usamos parámetros aleatorios entre los valores que hemos determinado y entrenamos varios RF (10). \n",
    "rand_search = RandomizedSearchCV(rf, param_distributions = param_dist, n_iter=10, cv=5)\n",
    "\n",
    "# Fit the random search object to the data\n",
    "rand_search.fit(X_train, y_train)\n",
    "\n",
    "# Guarda cada modelo como una variable y del que obtiene mejores resultados devuelve sus parámetros optimizados\n",
    "best_rf = rand_search.best_estimator_\n",
    "print('Mejores parámetros:',  rand_search.best_params_)"
   ]
  },
  {
   "cell_type": "markdown",
   "id": "c1bc2077-e1b7-44b4-af85-9cb8fd849e88",
   "metadata": {},
   "source": [
    "Probamos los nuevos hiperparámetros para ver la mejora del RandomForest:"
   ]
  },
  {
   "cell_type": "code",
   "execution_count": 13,
   "id": "e30d87df-a5b4-4bbc-b944-4ce23608076c",
   "metadata": {},
   "outputs": [
    {
     "name": "stdout",
     "output_type": "stream",
     "text": [
      "Precisión: 64.9402390438247 %\n"
     ]
    }
   ],
   "source": [
    "X_train, X_test, y_train, y_test = train_test_split(X, y, test_size=0.3)\n",
    "rf_best = RandomForestClassifier(n_estimators = 400, max_depth= 9)\n",
    "rf_best.fit(X_train, y_train)\n",
    "\n",
    "y_pred = rf_best.predict(X_test)\n",
    "accuracy = accuracy_score(y_test, y_pred)\n",
    "print(\"Precisión:\", accuracy*100, \"%\" )"
   ]
  },
  {
   "cell_type": "markdown",
   "id": "55dab6f3-16ca-4dd5-8e2d-61af8a4b7611",
   "metadata": {},
   "source": [
    "No ha mejorado mucho la verdad pero por algo se empieza.\n",
    "\n",
    "Sometemos este nuevo modelo a varias evaluaciones más para estuidar mejor su comportamiento:"
   ]
  },
  {
   "cell_type": "markdown",
   "id": "fec72d3f-e9a7-4737-914e-2fcd1e87c31c",
   "metadata": {},
   "source": [
    "##### 3.1 Matriz de confusión"
   ]
  },
  {
   "cell_type": "code",
   "execution_count": 14,
   "id": "b624e313-3e74-4222-8590-29edb9975226",
   "metadata": {},
   "outputs": [
    {
     "name": "stdout",
     "output_type": "stream",
     "text": [
      "Precisión: 63.47941567065073 %\n",
      "[[328  75]\n",
      " [200 150]]\n"
     ]
    },
    {
     "data": {
      "image/png": "[encoded data removed]",
      "text/plain": [
       "<Figure size 640x480 with 2 Axes>"
      ]
     },
     "metadata": {},
     "output_type": "display_data"
    }
   ],
   "source": [
    "X_train, X_test, y_train, y_test = train_test_split(X, y, test_size=0.1)\n",
    "rf_best = RandomForestClassifier(n_estimators = 400, max_depth= 9)\n",
    "rf_best.fit(X_train, y_train)\n",
    "\n",
    "# Utlilizamos el mejor modelo para realizar predicciones\n",
    "y_pred = rf_best.predict(X_test)\n",
    "\n",
    "accuracy = accuracy_score(y_test, y_pred)\n",
    "print(\"Precisión:\", accuracy*100, \"%\" )\n",
    "\n",
    "# Creamos la matriz de confusión para evaluar sus resultados\n",
    "cm = confusion_matrix(y_test, y_pred)\n",
    "\n",
    "ConfusionMatrixDisplay(confusion_matrix=cm).plot()\n",
    "print(confusion_matrix(y_test, y_pred))"
   ]
  },
  {
   "cell_type": "markdown",
   "id": "acf6aad4-63ea-4b17-a80f-4a92bea626e9",
   "metadata": {},
   "source": [
    "Donde 0 indica que es un gamma y 1 indica que es un protón. Podemos ver claramente que el RF predice bastante bien (80 %) cuando es un rayo gamma pero no tan bien (50 %) cuando es un protón.\n",
    "\n",
    "Esto puede deberse a varios motivos:\n",
    "1. La menor cantidad de datos de protones con respecto a gammas de los archivos usados para entrenar el modelo\n",
    "1. La mayor dispersión de los datos de protones lo que provoca que el modelo no asigne correctamente los parámetros que determinan a los protones"
   ]
  },
  {
   "cell_type": "markdown",
   "id": "f4240f9f-ca5a-4290-968b-7888392e4587",
   "metadata": {},
   "source": [
    "#### 3.2 Peso de los parámetros"
   ]
  },
  {
   "cell_type": "markdown",
   "id": "f866ebd6-c10d-4ae8-b3a9-548b66e6d2fa",
   "metadata": {},
   "source": [
    "Vamos ahora a ver cuáles son los parámetros que tienen más peso a la hora de tomar la decisión:"
   ]
  },
  {
   "cell_type": "code",
   "execution_count": 15,
   "id": "3c951146-4e85-47bd-bc4e-f57c9e8afc22",
   "metadata": {},
   "outputs": [
    {
     "data": {
      "image/png": "[encoded data removed]",
      "text/plain": [
       "<Figure size 640x480 with 1 Axes>"
      ]
     },
     "metadata": {},
     "output_type": "display_data"
    }
   ],
   "source": [
    "# Create a series containing feature importances from the model and feature names from the training data\n",
    "feature_importances = pd.Series(rf_best.feature_importances_, index=X_train.columns).sort_values(ascending=False)\n",
    "\n",
    "# Mostramos la importancia de cada parámetro\n",
    "feature_importances.plot.bar();"
   ]
  },
  {
   "cell_type": "markdown",
   "id": "d10a08cc-cca0-49ce-bb9f-dcd28218eedc",
   "metadata": {},
   "source": [
    "A partir de aquí, quizás otra manera de mejorar el modelo es introduciendo más parámetros y ver cuáles de ellos tienen más peso a la hora de tomar la decisión para el mejor RF."
   ]
  },
  {
   "cell_type": "code",
   "execution_count": null,
   "id": "cf5bc6b1-88fd-4a8e-9f82-6bc8d28abec0",
   "metadata": {},
   "outputs": [],
   "source": []
  },
  {
   "cell_type": "code",
   "execution_count": null,
   "id": "1f37bc5c-c280-4fe8-b180-dc61680eee80",
   "metadata": {},
   "outputs": [],
   "source": []
  },
  {
   "cell_type": "code",
   "execution_count": null,
   "id": "905506ee-c15f-49a7-aa86-ca8545745509",
   "metadata": {},
   "outputs": [],
   "source": []
  }
 ],
 "metadata": {
  "kernelspec": {
   "display_name": "Python 3 (ipykernel)",
   "language": "python",
   "name": "python3"
  },
  "language_info": {
   "codemirror_mode": {
    "name": "ipython",
    "version": 3
   },
   "file_extension": ".py",
   "mimetype": "text/x-python",
   "name": "python",
   "nbconvert_exporter": "python",
   "pygments_lexer": "ipython3",
   "version": "3.11.7"
  }
 },
 "nbformat": 4,
 "nbformat_minor": 5
}
